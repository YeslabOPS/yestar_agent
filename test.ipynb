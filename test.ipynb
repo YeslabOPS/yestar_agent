{
 "cells": [
  {
   "cell_type": "code",
   "execution_count": 5,
   "metadata": {},
   "outputs": [],
   "source": [
    "import datetime\n",
    "from connection import Net\n",
    "now_time = str(datetime.datetime.now()).split('.')[0]\n",
    "net = Net('cisco_ios', '192.168.1.100', 'ciscouser', 'cisco@123')\n",
    "mail_subject = 'This is a devnet test mail'\n",
    "with open('template/head.html', encoding='utf-8') as f:\n",
    "    text_head = f.read()\n",
    "with open('template/body.html', encoding='utf-8') as f:\n",
    "    text_body = f.read()\n",
    "    body = text_head + \"\\n\" + text_body.format('cisco', 'error', 'cisco error haha', now_time)\n",
    "net.send_mail(subject=mail_subject, body=body)"
   ]
  },
  {
   "cell_type": "code",
   "execution_count": 2,
   "metadata": {},
   "outputs": [
    {
     "data": {
      "text/plain": [
       "<function str.format>"
      ]
     },
     "execution_count": 2,
     "metadata": {},
     "output_type": "execute_result"
    }
   ],
   "source": [
    "mail_text.format"
   ]
  },
  {
   "cell_type": "code",
   "execution_count": null,
   "metadata": {},
   "outputs": [],
   "source": []
  }
 ],
 "metadata": {
  "kernelspec": {
   "display_name": "Python 3",
   "language": "python",
   "name": "python3"
  },
  "language_info": {
   "codemirror_mode": {
    "name": "ipython",
    "version": 3
   },
   "file_extension": ".py",
   "mimetype": "text/x-python",
   "name": "python",
   "nbconvert_exporter": "python",
   "pygments_lexer": "ipython3",
   "version": "3.12.0"
  }
 },
 "nbformat": 4,
 "nbformat_minor": 2
}
